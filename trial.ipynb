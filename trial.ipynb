{
 "cells": [
  {
   "cell_type": "code",
   "execution_count": 2,
   "metadata": {},
   "outputs": [],
   "source": [
    "import os\n",
    "import zipfile\n",
    "import re\n",
    "\n",
    "import pandas as pd"
   ]
  },
  {
   "cell_type": "code",
   "execution_count": 3,
   "metadata": {},
   "outputs": [],
   "source": [
    "xls = pd.ExcelFile(\"sample_data.xlsx\")\n",
    "\n",
    "correlation_input_df = pd.read_excel(xls, 'Correlation Input Sheet')\n"
   ]
  },
  {
   "cell_type": "code",
   "execution_count": null,
   "metadata": {},
   "outputs": [],
   "source": [
    "correlation_inputdf['Period'] == 2001"
   ]
  },
  {
   "cell_type": "markdown",
   "metadata": {},
   "source": [
    "Code to get sheet names in an excel file"
   ]
  },
  {
   "cell_type": "code",
   "execution_count": null,
   "metadata": {},
   "outputs": [],
   "source": [
    "filepath = \"./\"\n",
    "\n",
    "sheets = []\n",
    "with zipfile.ZipFile(filepath, 'r') as zip_ref:\n",
    "    xls = zip_ref.read(sample_data.xlsx)"
   ]
  },
  {
   "cell_type": "code",
   "execution_count": null,
   "metadata": {},
   "outputs": [],
   "source": [
    "def get_excel_sheet_names(file_path):\n",
    "    sheets = []\n",
    "    with zipfile.ZipFile(file_path, 'r') as zip_ref: xml = zip_ref.read(\"xl/workbook.xml\").decode(\"utf-8\")\n",
    "    for s_tag in  re.findall(\"<sheet [^>]*\", xml) : sheets.append(  re.search('name=\"[^\"]*', s_tag).group(0)[6:])\n",
    "    return sheets\n",
    "\n",
    "sheets  = get_excel_sheet_names(\"Book1.xlsx\")\n",
    "print(sheets)\n",
    "# prints: \"['Sheet1', 'my_sheet 2']\""
   ]
  }
 ],
 "metadata": {
  "interpreter": {
   "hash": "d3684168f2ff377847a2b58d12cd4a6e24ce67fcfd3dd39d69d67571ad8bbbcd"
  },
  "kernelspec": {
   "display_name": "Python 3.9.6 ('venv': venv)",
   "language": "python",
   "name": "python3"
  },
  "language_info": {
   "codemirror_mode": {
    "name": "ipython",
    "version": 3
   },
   "file_extension": ".py",
   "mimetype": "text/x-python",
   "name": "python",
   "nbconvert_exporter": "python",
   "pygments_lexer": "ipython3",
   "version": "3.9.6"
  },
  "orig_nbformat": 4
 },
 "nbformat": 4,
 "nbformat_minor": 2
}
