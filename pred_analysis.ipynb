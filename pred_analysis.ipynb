{
 "cells": [
  {
   "cell_type": "code",
   "execution_count": null,
   "metadata": {},
   "outputs": [],
   "source": []
  },
  {
   "cell_type": "markdown",
   "metadata": {},
   "source": [
    "Tobi's version"
   ]
  },
  {
   "cell_type": "code",
   "execution_count": null,
   "metadata": {},
   "outputs": [],
   "source": [
    "import pandas as pd\n",
    "from statsmodels.tsa.arima.model import ARIMA\n",
    "\n",
    "\n",
    "# Importing the excel sheet and displaying information about the sheet.\n",
    "imported_sheet = pd.read_csv(\"Dataset For Forecast - Sheet1.csv\", parse_dates=['Period'], index_col='Period')\n",
    "\n",
    "\n",
    "def sheet_splitter(example_sheet, indicator):\n",
    "    \"\"\"\n",
    "    a function that checks if an indicator is present in an example sheet,\n",
    "    splits the example sheet based on the provided indicator and then,\n",
    "    outputs a CSV file and determines whether time series forecasts,\n",
    "    can be performed on the split data. Expects at least 15 data points,\n",
    "    to pass check.\n",
    "    :param example_sheet-pandas dataframe\n",
    "    :param indicator-string\n",
    "    :returns: indicator_df-dataframe, Information on the split file for forecasting.\n",
    "    \"\"\"\n",
    "\n",
    "    # Declare the indicator conditional\n",
    "    indicator_conditional = example_sheet['Indicator'] == indicator\n",
    "\n",
    "    # Make of copy of a slice of the original dataframe\n",
    "    indicator_df = example_sheet[indicator_conditional].copy()\n",
    "\n",
    "    # Determine how many data points are suitable for data forecasting\n",
    "    if len(indicator_df) >= 15:\n",
    "        print(f\"Indicator : {indicator}, with length: {len(indicator_df)} can be forecast\")\n",
    "        return indicator_df\n",
    "\n",
    "    else:\n",
    "        print(f\"Indicator : {indicator} with length: {len(indicator_df)}, \"\n",
    "              \"cannot be forecast, choose \"\n",
    "              \"another indicator or check spelling\")\n",
    "\n",
    "\n",
    "def arima_forecast(dataframe, year, p=0, d=1, q=0):\n",
    "    \"\"\"\n",
    "    A function that makes a forecast using a ARIMA and evaluates\n",
    "    the model with RMSE.\n",
    "    :param dataframe-pandas series\n",
    "    :param p: autoregressor term-int\n",
    "    :param d: differencing term-int\n",
    "    :param q: moving average term-int\n",
    "    :param year: year being forecast\n",
    "    \"\"\"\n",
    "    series_forecast = dataframe.drop(['Indicator', 'State', 'LGA', 'Source'], axis=1)\n",
    "    X = series_forecast.values\n",
    "    X = X.astype('float32')\n",
    "\n",
    "    # one step forecasting\n",
    "    history = [value for value in X]\n",
    "    model = ARIMA(history, order=(p, d, q))\n",
    "    model_fit = model.fit()\n",
    "    y_hat = model_fit.forecast()[0]\n",
    "    print('For Year %d --> Predicted = %.3f ' % (year, y_hat))\n",
    "\n",
    "\n",
    "ABR_sheet = sheet_splitter(imported_sheet, 'Adolescent birth rate')\n",
    "arima_forecast(ABR_sheet, 2020, p=1, d=1, q=0)\n"
   ]
  }
 ],
 "metadata": {
  "language_info": {
   "name": "python"
  },
  "orig_nbformat": 4
 },
 "nbformat": 4,
 "nbformat_minor": 2
}
