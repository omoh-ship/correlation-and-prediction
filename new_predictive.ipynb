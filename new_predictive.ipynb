{
 "cells": [
  {
   "cell_type": "code",
   "execution_count": 9,
   "metadata": {},
   "outputs": [
    {
     "data": {
      "text/html": [
       "<div>\n",
       "<style scoped>\n",
       "    .dataframe tbody tr th:only-of-type {\n",
       "        vertical-align: middle;\n",
       "    }\n",
       "\n",
       "    .dataframe tbody tr th {\n",
       "        vertical-align: top;\n",
       "    }\n",
       "\n",
       "    .dataframe thead th {\n",
       "        text-align: right;\n",
       "    }\n",
       "</style>\n",
       "<table border=\"1\" class=\"dataframe\">\n",
       "  <thead>\n",
       "    <tr style=\"text-align: right;\">\n",
       "      <th></th>\n",
       "      <th>Indicator</th>\n",
       "      <th>State</th>\n",
       "      <th>LGA</th>\n",
       "      <th>Source</th>\n",
       "      <th>Value</th>\n",
       "    </tr>\n",
       "    <tr>\n",
       "      <th>Period</th>\n",
       "      <th></th>\n",
       "      <th></th>\n",
       "      <th></th>\n",
       "      <th></th>\n",
       "      <th></th>\n",
       "    </tr>\n",
       "  </thead>\n",
       "  <tbody>\n",
       "    <tr>\n",
       "      <th>2000-01-01</th>\n",
       "      <td>Infant Mortality rate</td>\n",
       "      <td>Abia</td>\n",
       "      <td>All</td>\n",
       "      <td>IHME</td>\n",
       "      <td>81.081218</td>\n",
       "    </tr>\n",
       "    <tr>\n",
       "      <th>2001-01-01</th>\n",
       "      <td>Infant Mortality rate</td>\n",
       "      <td>Abia</td>\n",
       "      <td>All</td>\n",
       "      <td>IHME</td>\n",
       "      <td>81.326104</td>\n",
       "    </tr>\n",
       "    <tr>\n",
       "      <th>2002-01-01</th>\n",
       "      <td>Infant Mortality rate</td>\n",
       "      <td>Abia</td>\n",
       "      <td>All</td>\n",
       "      <td>IHME</td>\n",
       "      <td>80.709217</td>\n",
       "    </tr>\n",
       "    <tr>\n",
       "      <th>2003-01-01</th>\n",
       "      <td>Infant Mortality rate</td>\n",
       "      <td>Abia</td>\n",
       "      <td>All</td>\n",
       "      <td>IHME</td>\n",
       "      <td>78.618660</td>\n",
       "    </tr>\n",
       "    <tr>\n",
       "      <th>2004-01-01</th>\n",
       "      <td>Infant Mortality rate</td>\n",
       "      <td>Abia</td>\n",
       "      <td>All</td>\n",
       "      <td>IHME</td>\n",
       "      <td>76.721278</td>\n",
       "    </tr>\n",
       "    <tr>\n",
       "      <th>...</th>\n",
       "      <td>...</td>\n",
       "      <td>...</td>\n",
       "      <td>...</td>\n",
       "      <td>...</td>\n",
       "      <td>...</td>\n",
       "    </tr>\n",
       "    <tr>\n",
       "      <th>2016-01-01</th>\n",
       "      <td>Skilled attendance at delivery or birth</td>\n",
       "      <td>Zamfara</td>\n",
       "      <td>All</td>\n",
       "      <td>NHMIS</td>\n",
       "      <td>94.000000</td>\n",
       "    </tr>\n",
       "    <tr>\n",
       "      <th>2017-01-01</th>\n",
       "      <td>Skilled attendance at delivery or birth</td>\n",
       "      <td>Zamfara</td>\n",
       "      <td>All</td>\n",
       "      <td>NHMIS</td>\n",
       "      <td>100.470000</td>\n",
       "    </tr>\n",
       "    <tr>\n",
       "      <th>2018-01-01</th>\n",
       "      <td>Skilled attendance at delivery or birth</td>\n",
       "      <td>Zamfara</td>\n",
       "      <td>All</td>\n",
       "      <td>NHMIS</td>\n",
       "      <td>124.000000</td>\n",
       "    </tr>\n",
       "    <tr>\n",
       "      <th>2019-01-01</th>\n",
       "      <td>Skilled attendance at delivery or birth</td>\n",
       "      <td>Zamfara</td>\n",
       "      <td>All</td>\n",
       "      <td>NHMIS</td>\n",
       "      <td>132.280000</td>\n",
       "    </tr>\n",
       "    <tr>\n",
       "      <th>2020-01-01</th>\n",
       "      <td>Skilled attendance at delivery or birth</td>\n",
       "      <td>Zamfara</td>\n",
       "      <td>All</td>\n",
       "      <td>NHMIS</td>\n",
       "      <td>98.600000</td>\n",
       "    </tr>\n",
       "  </tbody>\n",
       "</table>\n",
       "<p>3747 rows × 5 columns</p>\n",
       "</div>"
      ],
      "text/plain": [
       "                                          Indicator    State  LGA Source  \\\n",
       "Period                                                                     \n",
       "2000-01-01                    Infant Mortality rate     Abia  All   IHME   \n",
       "2001-01-01                    Infant Mortality rate     Abia  All   IHME   \n",
       "2002-01-01                    Infant Mortality rate     Abia  All   IHME   \n",
       "2003-01-01                    Infant Mortality rate     Abia  All   IHME   \n",
       "2004-01-01                    Infant Mortality rate     Abia  All   IHME   \n",
       "...                                             ...      ...  ...    ...   \n",
       "2016-01-01  Skilled attendance at delivery or birth  Zamfara  All  NHMIS   \n",
       "2017-01-01  Skilled attendance at delivery or birth  Zamfara  All  NHMIS   \n",
       "2018-01-01  Skilled attendance at delivery or birth  Zamfara  All  NHMIS   \n",
       "2019-01-01  Skilled attendance at delivery or birth  Zamfara  All  NHMIS   \n",
       "2020-01-01  Skilled attendance at delivery or birth  Zamfara  All  NHMIS   \n",
       "\n",
       "                 Value  \n",
       "Period                  \n",
       "2000-01-01   81.081218  \n",
       "2001-01-01   81.326104  \n",
       "2002-01-01   80.709217  \n",
       "2003-01-01   78.618660  \n",
       "2004-01-01   76.721278  \n",
       "...                ...  \n",
       "2016-01-01   94.000000  \n",
       "2017-01-01  100.470000  \n",
       "2018-01-01  124.000000  \n",
       "2019-01-01  132.280000  \n",
       "2020-01-01   98.600000  \n",
       "\n",
       "[3747 rows x 5 columns]"
      ]
     },
     "execution_count": 9,
     "metadata": {},
     "output_type": "execute_result"
    }
   ],
   "source": [
    "import pandas as pd\n",
    "\n",
    "xls = pd.ExcelFile('data/sample_data.xlsx') \n",
    "\n",
    "correlation_input_df = pd.read_excel(xls, 'Correlation Input Sheet')\n",
    "\n",
    "# correlation_input_df[\"Period\"] = pd.to_datetime(correlation_input_df[\"Period\"]).dt.year\n",
    "correlation_input_df[\"Period\"] = pd.to_datetime(correlation_input_df[\"Period\"], format='%Y')\n",
    "\n",
    "\n",
    "\n",
    "correlation_input_df.set_index('Period')\n",
    "# correlation_input_df = correlation_input_df.reset_index(drop=True)\n",
    "\n",
    "# correlation_input_df"
   ]
  },
  {
   "cell_type": "code",
   "execution_count": 10,
   "metadata": {},
   "outputs": [],
   "source": [
    "def segment_sheet(example_sheet, indicator):\n",
    "    \"\"\"\n",
    "    a function that checks if an indicator is present in an example sheet,\n",
    "    splits the example sheet based on the provided indicator and then,\n",
    "    outputs a CSV file and determines whether time series forecasts,\n",
    "    can be performed on the split data.\n",
    "\n",
    "    Args:\n",
    "    example_sheet-pandas dataframe\n",
    "    indicator-string\n",
    "\n",
    "    Return:\n",
    "    indicator_df-dataFrame\n",
    "    \"\"\"\n",
    "    \n",
    "    # Declare the indicator conditional\n",
    "    indicator_conditional = example_sheet['Indicator'] == indicator\n",
    "    \n",
    "    # Make of copy of a slice of the original dataframe\n",
    "    indicator_df = example_sheet[indicator_conditional].copy()\n",
    "    \n",
    "    # Determine how many data points are suitable for data forecasting\n",
    "    if (len(indicator_df) >= 15):\n",
    "        print(f\"Indicator : {indicator}, with length: {len(indicator_df)} can be forecast\")\n",
    "        return indicator_df\n",
    "        \n",
    "    else:\n",
    "        return f\"\"\"Indicator : {indicator} with length: {len(indicator_df)}, cannot be forecast, choose another indicator or check spelling\"\"\"\n",
    "            \n",
    "    "
   ]
  },
  {
   "cell_type": "code",
   "execution_count": 11,
   "metadata": {},
   "outputs": [
    {
     "name": "stdout",
     "output_type": "stream",
     "text": [
      "Indicator : Infant Mortality rate, with length: 1163 can be forecast\n"
     ]
    }
   ],
   "source": [
    "# correlation_input_df = correlation_input_df[correlation_input_df['Period'] == 2001]\n",
    "\n",
    "birth_rate = segment_sheet(correlation_input_df, 'Infant Mortality rate')"
   ]
  },
  {
   "cell_type": "code",
   "execution_count": 13,
   "metadata": {},
   "outputs": [],
   "source": [
    "birth_rate_forcast = birth_rate.drop(['Indicator', 'State', 'LGA','Source'], axis=1)"
   ]
  },
  {
   "cell_type": "code",
   "execution_count": 17,
   "metadata": {},
   "outputs": [
    {
     "data": {
      "text/html": [
       "<div>\n",
       "<style scoped>\n",
       "    .dataframe tbody tr th:only-of-type {\n",
       "        vertical-align: middle;\n",
       "    }\n",
       "\n",
       "    .dataframe tbody tr th {\n",
       "        vertical-align: top;\n",
       "    }\n",
       "\n",
       "    .dataframe thead th {\n",
       "        text-align: right;\n",
       "    }\n",
       "</style>\n",
       "<table border=\"1\" class=\"dataframe\">\n",
       "  <thead>\n",
       "    <tr style=\"text-align: right;\">\n",
       "      <th></th>\n",
       "      <th>Value</th>\n",
       "    </tr>\n",
       "    <tr>\n",
       "      <th>Period</th>\n",
       "      <th></th>\n",
       "    </tr>\n",
       "  </thead>\n",
       "  <tbody>\n",
       "    <tr>\n",
       "      <th>2000-01-01</th>\n",
       "      <td>81.081218</td>\n",
       "    </tr>\n",
       "    <tr>\n",
       "      <th>2001-01-01</th>\n",
       "      <td>81.326104</td>\n",
       "    </tr>\n",
       "    <tr>\n",
       "      <th>2002-01-01</th>\n",
       "      <td>80.709217</td>\n",
       "    </tr>\n",
       "    <tr>\n",
       "      <th>2003-01-01</th>\n",
       "      <td>78.618660</td>\n",
       "    </tr>\n",
       "    <tr>\n",
       "      <th>2004-01-01</th>\n",
       "      <td>76.721278</td>\n",
       "    </tr>\n",
       "    <tr>\n",
       "      <th>...</th>\n",
       "      <td>...</td>\n",
       "    </tr>\n",
       "    <tr>\n",
       "      <th>2016-01-01</th>\n",
       "      <td>14.800000</td>\n",
       "    </tr>\n",
       "    <tr>\n",
       "      <th>2017-01-01</th>\n",
       "      <td>12.700000</td>\n",
       "    </tr>\n",
       "    <tr>\n",
       "      <th>2018-01-01</th>\n",
       "      <td>21.300000</td>\n",
       "    </tr>\n",
       "    <tr>\n",
       "      <th>2019-01-01</th>\n",
       "      <td>14.000000</td>\n",
       "    </tr>\n",
       "    <tr>\n",
       "      <th>2020-01-01</th>\n",
       "      <td>3.900000</td>\n",
       "    </tr>\n",
       "  </tbody>\n",
       "</table>\n",
       "<p>1163 rows × 1 columns</p>\n",
       "</div>"
      ],
      "text/plain": [
       "                Value\n",
       "Period               \n",
       "2000-01-01  81.081218\n",
       "2001-01-01  81.326104\n",
       "2002-01-01  80.709217\n",
       "2003-01-01  78.618660\n",
       "2004-01-01  76.721278\n",
       "...               ...\n",
       "2016-01-01  14.800000\n",
       "2017-01-01  12.700000\n",
       "2018-01-01  21.300000\n",
       "2019-01-01  14.000000\n",
       "2020-01-01   3.900000\n",
       "\n",
       "[1163 rows x 1 columns]"
      ]
     },
     "execution_count": 17,
     "metadata": {},
     "output_type": "execute_result"
    }
   ],
   "source": [
    "birth_rate_forcast = birth_rate_forcast.set_index('Period')\n",
    "birth_rate_forcast"
   ]
  },
  {
   "cell_type": "code",
   "execution_count": 19,
   "metadata": {},
   "outputs": [
    {
     "data": {
      "text/plain": [
       "<AxesSubplot:xlabel='Period'>"
      ]
     },
     "execution_count": 19,
     "metadata": {},
     "output_type": "execute_result"
    },
    {
     "data": {
      "image/png": "[encoded data removed]",
      "text/plain": [
       "<Figure size 432x288 with 1 Axes>"
      ]
     },
     "metadata": {
      "needs_background": "light"
     },
     "output_type": "display_data"
    }
   ],
   "source": [
    "birth_rate_forcast.plot()"
   ]
  },
  {
   "cell_type": "code",
   "execution_count": 20,
   "metadata": {},
   "outputs": [
    {
     "ename": "ValueError",
     "evalue": "Multiplicative seasonality is not appropriate for zero and negative values",
     "output_type": "error",
     "traceback": [
      "\u001b[1;31m---------------------------------------------------------------------------\u001b[0m",
      "\u001b[1;31mValueError\u001b[0m                                Traceback (most recent call last)",
      "\u001b[1;32mc:\\Users\\Gloria\\PycharmProjects\\plotlyProject\\correlation-and-prediction\\new_predictive.ipynb Cell 7'\u001b[0m in \u001b[0;36m<cell line: 5>\u001b[1;34m()\u001b[0m\n\u001b[0;32m      <a href='vscode-notebook-cell:/c%3A/Users/Gloria/PycharmProjects/plotlyProject/correlation-and-prediction/new_predictive.ipynb#ch0000005?line=1'>2</a>\u001b[0m \u001b[39mfrom\u001b[39;00m \u001b[39mstatsmodels\u001b[39;00m\u001b[39m.\u001b[39;00m\u001b[39mtsa\u001b[39;00m\u001b[39m.\u001b[39;00m\u001b[39mseasonal\u001b[39;00m \u001b[39mimport\u001b[39;00m seasonal_decompose\n\u001b[0;32m      <a href='vscode-notebook-cell:/c%3A/Users/Gloria/PycharmProjects/plotlyProject/correlation-and-prediction/new_predictive.ipynb#ch0000005?line=3'>4</a>\u001b[0m \u001b[39m# Multiplicative Decomposition \u001b[39;00m\n\u001b[1;32m----> <a href='vscode-notebook-cell:/c%3A/Users/Gloria/PycharmProjects/plotlyProject/correlation-and-prediction/new_predictive.ipynb#ch0000005?line=4'>5</a>\u001b[0m result_mul \u001b[39m=\u001b[39m seasonal_decompose(birth_rate_forcast[\u001b[39m'\u001b[39;49m\u001b[39mValue\u001b[39;49m\u001b[39m'\u001b[39;49m], model\u001b[39m=\u001b[39;49m\u001b[39m'\u001b[39;49m\u001b[39mmultiplicative\u001b[39;49m\u001b[39m'\u001b[39;49m, extrapolate_trend\u001b[39m=\u001b[39;49m\u001b[39m'\u001b[39;49m\u001b[39mfreq\u001b[39;49m\u001b[39m'\u001b[39;49m)\n",
      "File \u001b[1;32mc:\\Users\\Gloria\\PycharmProjects\\plotlyProject\\venv\\lib\\site-packages\\statsmodels\\tsa\\seasonal.py:149\u001b[0m, in \u001b[0;36mseasonal_decompose\u001b[1;34m(x, model, filt, period, two_sided, extrapolate_trend)\u001b[0m\n\u001b[0;32m    <a href='file:///c%3A/Users/Gloria/PycharmProjects/plotlyProject/venv/lib/site-packages/statsmodels/tsa/seasonal.py?line=146'>147</a>\u001b[0m \u001b[39mif\u001b[39;00m model\u001b[39m.\u001b[39mstartswith(\u001b[39m\"\u001b[39m\u001b[39mm\u001b[39m\u001b[39m\"\u001b[39m):\n\u001b[0;32m    <a href='file:///c%3A/Users/Gloria/PycharmProjects/plotlyProject/venv/lib/site-packages/statsmodels/tsa/seasonal.py?line=147'>148</a>\u001b[0m     \u001b[39mif\u001b[39;00m np\u001b[39m.\u001b[39many(x \u001b[39m<\u001b[39m\u001b[39m=\u001b[39m \u001b[39m0\u001b[39m):\n\u001b[1;32m--> <a href='file:///c%3A/Users/Gloria/PycharmProjects/plotlyProject/venv/lib/site-packages/statsmodels/tsa/seasonal.py?line=148'>149</a>\u001b[0m         \u001b[39mraise\u001b[39;00m \u001b[39mValueError\u001b[39;00m(\n\u001b[0;32m    <a href='file:///c%3A/Users/Gloria/PycharmProjects/plotlyProject/venv/lib/site-packages/statsmodels/tsa/seasonal.py?line=149'>150</a>\u001b[0m             \u001b[39m\"\u001b[39m\u001b[39mMultiplicative seasonality is not appropriate \u001b[39m\u001b[39m\"\u001b[39m\n\u001b[0;32m    <a href='file:///c%3A/Users/Gloria/PycharmProjects/plotlyProject/venv/lib/site-packages/statsmodels/tsa/seasonal.py?line=150'>151</a>\u001b[0m             \u001b[39m\"\u001b[39m\u001b[39mfor zero and negative values\u001b[39m\u001b[39m\"\u001b[39m\n\u001b[0;32m    <a href='file:///c%3A/Users/Gloria/PycharmProjects/plotlyProject/venv/lib/site-packages/statsmodels/tsa/seasonal.py?line=151'>152</a>\u001b[0m         )\n\u001b[0;32m    <a href='file:///c%3A/Users/Gloria/PycharmProjects/plotlyProject/venv/lib/site-packages/statsmodels/tsa/seasonal.py?line=153'>154</a>\u001b[0m \u001b[39mif\u001b[39;00m period \u001b[39mis\u001b[39;00m \u001b[39mNone\u001b[39;00m:\n\u001b[0;32m    <a href='file:///c%3A/Users/Gloria/PycharmProjects/plotlyProject/venv/lib/site-packages/statsmodels/tsa/seasonal.py?line=154'>155</a>\u001b[0m     \u001b[39mif\u001b[39;00m pfreq \u001b[39mis\u001b[39;00m \u001b[39mnot\u001b[39;00m \u001b[39mNone\u001b[39;00m:\n",
      "\u001b[1;31mValueError\u001b[0m: Multiplicative seasonality is not appropriate for zero and negative values"
     ]
    }
   ],
   "source": [
    "# Import required module\n",
    "from statsmodels.tsa.seasonal import seasonal_decompose\n",
    "\n",
    "# Multiplicative Decomposition \n",
    "result_mul = seasonal_decompose(birth_rate_forcast['Value'], model='multiplicative', extrapolate_trend='freq')\n",
    "\n",
    "# Additive Decomposition\n",
    "# result_add = seasonal_decompose(birth_rate_forcast['Value'], model='additive', extrapolate_trend='freq')\n",
    "\n",
    "# birth_rate_forcast['Value']"
   ]
  },
  {
   "cell_type": "code",
   "execution_count": null,
   "metadata": {},
   "outputs": [],
   "source": []
  }
 ],
 "metadata": {
  "interpreter": {
   "hash": "f9ead8b22896542875c54b7e11cc10bf18a6cbba30721984237252e598d6c499"
  },
  "kernelspec": {
   "display_name": "Python 3.9.11 ('venv': venv)",
   "language": "python",
   "name": "python3"
  },
  "language_info": {
   "codemirror_mode": {
    "name": "ipython",
    "version": 3
   },
   "file_extension": ".py",
   "mimetype": "text/x-python",
   "name": "python",
   "nbconvert_exporter": "python",
   "pygments_lexer": "ipython3",
   "version": "3.9.11"
  },
  "orig_nbformat": 4
 },
 "nbformat": 4,
 "nbformat_minor": 2
}
