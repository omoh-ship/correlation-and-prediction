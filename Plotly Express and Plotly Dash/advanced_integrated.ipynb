{
 "cells": [
  {
   "cell_type": "code",
   "execution_count": 1,
   "id": "8652a6ec",
   "metadata": {},
   "outputs": [],
   "source": [
    "from jupyter_dash import JupyterDash\n",
    "from dash import dcc, html\n",
    "from dash.dependencies import Input, Output\n",
    "import plotly.express as px"
   ]
  },
  {
   "cell_type": "code",
   "execution_count": 2,
   "id": "b1ce0778",
   "metadata": {},
   "outputs": [],
   "source": [
    "df = px.data.gapminder()"
   ]
  },
  {
   "cell_type": "code",
   "execution_count": 3,
   "id": "e06761e2",
   "metadata": {},
   "outputs": [],
   "source": [
    "app = JupyterDash(__name__)\n"
   ]
  },
  {
   "cell_type": "code",
   "execution_count": 4,
   "id": "4babb500",
   "metadata": {},
   "outputs": [],
   "source": [
    "app.layout = html.Div(children = [\n",
    "  dcc.Dropdown(id=\"year\", value=2007, clearable=False,\n",
    "    options=[{\"label\": y, \"value\": y} for y in df['year'].unique()]),\n",
    "  dcc.Graph(id=\"graph\", figure={}),\n",
    "  dcc.Graph(id=\"map\", figure={})\n",
    "])\n"
   ]
  },
  {
   "cell_type": "code",
   "execution_count": 5,
   "id": "e9967440",
   "metadata": {},
   "outputs": [],
   "source": [
    "@app.callback(Output('graph', 'figure'), Input('year', 'value'))\n",
    "def cb(year):\n",
    "    df_year = df.query(\"year == @year\")\n",
    "    return px.scatter(df_year, x=\"gdpPercap\", y=\"lifeExp\", size=\"pop\", color=\"continent\",\n",
    "          log_x=True, size_max=60, hover_name=\"country\", height=400,\n",
    "          custom_data=[df_year.index]).update_layout(dragmode='lasso')\n"
   ]
  },
  {
   "cell_type": "code",
   "execution_count": 6,
   "id": "5f49a024",
   "metadata": {},
   "outputs": [],
   "source": [
    "@app.callback(Output('map', 'figure'), Input('year', 'value'), Input('graph', 'selectedData'))\n",
    "def display_selected_data(year, selectedData):\n",
    "    df_year = df.query(\"year == @year\")\n",
    "    if selectedData:\n",
    "        indices = [p[\"customdata\"][0] for p in selectedData[\"points\"]]\n",
    "        try:\n",
    "            df_year = df_year.loc[indices]\n",
    "        except:\n",
    "            pass\n",
    "\n",
    "    return px.scatter_geo(df_year, locations=\"iso_alpha\",size=\"pop\", \n",
    "                          hover_name=\"country\", height=400, color=\"lifeExp\")"
   ]
  },
  {
   "cell_type": "code",
   "execution_count": 7,
   "id": "2986147a",
   "metadata": {},
   "outputs": [
    {
     "name": "stdout",
     "output_type": "stream",
     "text": [
      "Dash app running on http://127.0.0.1:8050/\n"
     ]
    }
   ],
   "source": [
    "if __name__ == \"__main__\":\n",
    "    app.run_server(debug=True)"
   ]
  },
  {
   "cell_type": "code",
   "execution_count": null,
   "id": "6f8fcb11",
   "metadata": {},
   "outputs": [],
   "source": []
  }
 ],
 "metadata": {
  "kernelspec": {
   "display_name": "Python 3 (ipykernel)",
   "language": "python",
   "name": "python3"
  },
  "language_info": {
   "codemirror_mode": {
    "name": "ipython",
    "version": 3
   },
   "file_extension": ".py",
   "mimetype": "text/x-python",
   "name": "python",
   "nbconvert_exporter": "python",
   "pygments_lexer": "ipython3",
   "version": "3.9.2"
  }
 },
 "nbformat": 4,
 "nbformat_minor": 5
}
