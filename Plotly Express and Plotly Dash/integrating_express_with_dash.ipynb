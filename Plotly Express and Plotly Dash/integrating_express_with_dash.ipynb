{
 "cells": [
  {
   "cell_type": "code",
   "execution_count": 1,
   "id": "eb761607",
   "metadata": {},
   "outputs": [],
   "source": [
    "from jupyter_dash import JupyterDash\n",
    "from dash import dcc, html\n",
    "from dash.dependencies import Input, Output\n",
    "import plotly.express as px"
   ]
  },
  {
   "cell_type": "code",
   "execution_count": 2,
   "id": "ebcfd68c",
   "metadata": {},
   "outputs": [],
   "source": [
    "df = px.data.gapminder()"
   ]
  },
  {
   "cell_type": "code",
   "execution_count": 3,
   "id": "2e17eb40",
   "metadata": {},
   "outputs": [],
   "source": [
    "app = JupyterDash(__name__)\n"
   ]
  },
  {
   "cell_type": "code",
   "execution_count": 4,
   "id": "20c88f95",
   "metadata": {},
   "outputs": [],
   "source": [
    "app.layout = html.Div(children = [\n",
    "  dcc.Dropdown(id=\"year\", value=2007, clearable=False,\n",
    "    options=[{\"label\": y, \"value\": y} for y in df['year'].unique()]),\n",
    "  dcc.Graph(id=\"graph\", figure={})\n",
    "])\n"
   ]
  },
  {
   "cell_type": "code",
   "execution_count": 5,
   "id": "b26a1b4d",
   "metadata": {},
   "outputs": [],
   "source": [
    "@app.callback(Output('graph', 'figure'), Input('year', 'value'))\n",
    "def cb(year):\n",
    "    df_year = correlation_operations(data_frame=correlation_input_df, \n",
    "                        query_elem='Period',\n",
    "                        query=2001,\n",
    "                        columns_to_drop=['Source', 'Period', 'LGA'],\n",
    "                        new_index_column='State',\n",
    "                        new_columns='Indicator',\n",
    "                        new_values='Value')\n",
    "    return px.scatter(df_year, x=\"gdpPercap\", y=\"lifeExp\", size=\"pop\", color=\"continent\",\n",
    "          log_x=True, size_max=60, hover_name=\"country\", height=400)\n"
   ]
  },
  {
   "cell_type": "code",
   "execution_count": 6,
   "id": "8786f382",
   "metadata": {},
   "outputs": [
    {
     "name": "stdout",
     "output_type": "stream",
     "text": [
      "Dash app running on http://127.0.0.1:8050/\n"
     ]
    }
   ],
   "source": [
    "if __name__ == \"__main__\":\n",
    "    app.run_server(debug=True)"
   ]
  },
  {
   "cell_type": "code",
   "execution_count": null,
   "id": "8a0e0c9f",
   "metadata": {},
   "outputs": [],
   "source": []
  }
 ],
 "metadata": {
  "kernelspec": {
   "display_name": "Python 3 (ipykernel)",
   "language": "python",
   "name": "python3"
  },
  "language_info": {
   "codemirror_mode": {
    "name": "ipython",
    "version": 3
   },
   "file_extension": ".py",
   "mimetype": "text/x-python",
   "name": "python",
   "nbconvert_exporter": "python",
   "pygments_lexer": "ipython3",
   "version": "3.9.2"
  }
 },
 "nbformat": 4,
 "nbformat_minor": 5
}
